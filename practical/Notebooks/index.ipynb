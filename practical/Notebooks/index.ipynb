{
 "cells": [
  {
   "cell_type": "markdown",
   "metadata": {},
   "source": [
    "# Read Alignment\n",
    "\n",
    "## Introduction\n",
    "Sequence alignment in NGS is the process of determining the most likely source of the observed DNA sequencing read within the reference genome sequence."
   ]
  },
  {
   "cell_type": "markdown",
   "metadata": {},
   "source": [
    "![NGS Read Alignment](images/alignment.png \"NGS Read Alignment\")"
   ]
  },
  {
   "cell_type": "markdown",
   "metadata": {},
   "source": [
    "### Why align?\n",
    "There are typical inferences you can make from an alignment of NGS data against a reference genome:\n",
    "\n",
    "* Variation from the reference – could have functional consequence.\n",
    "* Transcript abundance: the number of aligned reads within genes can be used to quantify expression.\n",
    "* Ab-initio transcript discovery: you can see a pileup from RNA-seq data showing evidence for an exon which was previously missed."
   ]
  },
  {
   "cell_type": "markdown",
   "metadata": {},
   "source": [
    "![Uses of Read Alignment](images/alignment-uses.png \"Uses of Read Alignment\")"
   ]
  },
  {
   "cell_type": "markdown",
   "metadata": {},
   "source": [
    "## Learning outcomes\n",
    "On completion of the tutorial, you should be able to:\n",
    "\n",
    "* Perform read alignment using standard tools (BWA-MEM).\n",
    "* Be able to mark duplicate reads and understand their effect on analysis results.\n",
    "* Visualise read alignments using IGV (Integrated Visualisation Tool).\n",
    "\n",
    "If there is time you will learn how to:\n",
    "\n",
    "* Merge the results from multiple alignments and understand when it is appropriate to perform a merge.\n",
    "\n",
    "## Tutorial sections\n",
    "This tutorial comprises the following sections:   \n",
    " 1. [Performing read alignment](alignment.ipynb)   \n",
    " 2. [Alignment visualisation](visualisation.ipynb)   \n",
    " \n",
    "There is also an additional (optional) section: \n",
    " 3. [Alignment workflows](workflows.ipynb)    \n",
    "\n",
    "## Authors\n",
    "This tutorial was written by [Jacqui Keane](https://github.com/jacquikeane) based on material from [Thomas Keane](https://github.com/tk2), [Vivek Iyer](https://github.com/vviyer) and [Victoria Offord](https://github.com/vo1).\n",
    "\n",
    "## Running the commands from this tutorial\n",
    "You can follow this tutorial by typing all the commands you see into a terminal window. This is similar to the \"Command Prompt\" window on MS Windows systems, which allows the user to type DOS commands to manage files.\n",
    "\n",
    "To get started, open a new terminal on your computer and type the command below:"
   ]
  },
  {
   "cell_type": "code",
   "execution_count": null,
   "metadata": {},
   "outputs": [],
   "source": [
    "cd /home/manager/course_data/read_alignment"
   ]
  },
  {
   "cell_type": "markdown",
   "metadata": {},
   "source": [
    "Now you can follow the instructions in the tutorial from here.\n",
    "\n",
    "## Let’s get started!\n",
    "This tutorial assumes that you have samtools, bwa, Picard tools and IGV installed on your computer. These are already installed on the VM you are using. To check that these are installed, you can run the following commands:"
   ]
  },
  {
   "cell_type": "code",
   "execution_count": null,
   "metadata": {},
   "outputs": [],
   "source": [
    "samtools --help"
   ]
  },
  {
   "cell_type": "code",
   "execution_count": null,
   "metadata": {},
   "outputs": [],
   "source": [
    "bwa"
   ]
  },
  {
   "cell_type": "code",
   "execution_count": null,
   "metadata": {},
   "outputs": [],
   "source": [
    "picard -h"
   ]
  },
  {
   "cell_type": "code",
   "execution_count": null,
   "metadata": {},
   "outputs": [],
   "source": [
    "igv"
   ]
  },
  {
   "cell_type": "markdown",
   "metadata": {},
   "source": [
    "This should return the help message for samtools, bwa and Picard tools respectively. The final command should launch the genome viewer IGV. You can close the IGV software for now; we will use it later in this tutorial to visualise alignments.\n",
    "\n",
    "To get started with the tutorial, head to the first section: [Performing read alignment](alignment.ipynb)"
   ]
  }
 ],
 "metadata": {
  "kernelspec": {
   "display_name": "Bash",
   "language": "bash",
   "name": "bash"
  },
  "language_info": {
   "codemirror_mode": "shell",
   "file_extension": ".sh",
   "mimetype": "text/x-sh",
   "name": "bash"
  }
 },
 "nbformat": 4,
 "nbformat_minor": 2
}
