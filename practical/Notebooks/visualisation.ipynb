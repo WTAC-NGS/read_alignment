{
 "cells": [
  {
   "cell_type": "markdown",
   "metadata": {},
   "source": [
    "# Alignment Visualisation\n",
    "\n",
    "You have now made it to the interesting part!\n",
    "\n",
    "Integrative Genome Viewer (IGV) [http://www.broadinstitute.org/igv/](http://www.broadinstitute.org/igv/) allows you to visualise genomic datasets and is a very useful tool for looking at the alignment of reads onto a reference genome.\n",
    "\n",
    "Start IGV by typing:"
   ]
  },
  {
   "cell_type": "code",
   "execution_count": null,
   "metadata": {},
   "outputs": [],
   "source": [
    "igv &"
   ]
  },
  {
   "cell_type": "markdown",
   "metadata": {},
   "source": [
    "## IGV main window\n",
    "\n",
    "When you start IGV, it will open a main window. At the top of this window you have a toolbar and genome ruler for navigation. The largest area in the main window is the data viewer where your alignments, annotations and other data will be displayed. To do this, IGV uses horizontal rows called tracks. Finally, at the bottom, there is a sequence viewer which contains the base level information for your reference genome."
   ]
  },
  {
   "cell_type": "markdown",
   "metadata": {},
   "source": [
    "![IGV - main window](images/igv-main-window.png \"IGV - main window\")"
   ]
  },
  {
   "cell_type": "markdown",
   "metadata": {},
   "source": [
    "## Load the reference genome\n",
    "\n",
    "IGV provides several genomes which can be selected with the \"Genome drop-down box\" on the toolbar.\n",
    "\n",
    "**Go to ' _Genomes -> Load Genome From Server…_ ' and select \"Mouse mm10\". This is a synonym for GRCm38, which is the current mouse assembly (reference genome).** "
   ]
  },
  {
   "cell_type": "markdown",
   "metadata": {},
   "source": [
    "![IGV - loading the mouse genome](images/load-mouse-ref.png \"IGV - loading the mouse genome\")"
   ]
  },
  {
   "cell_type": "markdown",
   "metadata": {},
   "source": [
    "![IGV - list of available genomes](images/mouse-ref-dialog.png \"IGV - list of available genomes\")"
   ]
  },
  {
   "cell_type": "markdown",
   "metadata": {},
   "source": [
    "### IGV toolbar and genome ruler\n",
    "\n",
    "Once the genome has loaded, the chromosomes will be shown on the **genome ruler** with their names/numbers above. When a region is selected, a red box will appear. This represents the visible region of the genome.\n",
    "\n",
    "Above the genome ruler is the **toolbar** which has a variety of controls for navigating the genome:\n",
    "\n",
    "  * **Genome drop-down** - load a genome\n",
    "  * **Chromosome drop-down** - zoom to a chromosome \n",
    "  * **Search** - zoom to a chromosome, locus or gene\n",
    "  \n",
    "There are several other buttons which can be used to control the visible portion of the genome.\n",
    "\n",
    "  * **Whole genome** - zoom back out to whole genome view\n",
    "  * **Previous/next view** - move backward/forward through views (like the back/forward buttons in a web browser)\n",
    "  * **Refresh** - refresh the display\n",
    "  * **Zoom** - zooms in (+) / out (-) on a chromosome"
   ]
  },
  {
   "cell_type": "markdown",
   "metadata": {},
   "source": [
    "![IGV - toolbar and genome ruler](images/igv-toolbar.png \"IGV - toolbar and genome ruler\")"
   ]
  },
  {
   "cell_type": "markdown",
   "metadata": {},
   "source": [
    "### Sequence viewer\n",
    "\n",
    "The **sequence viewer** shows the genome at the single nucleotide level. You won't be able to see the sequence until you are zomed in. Let's try it: select any chromosome and then click on the zooom in (+) option in the top right of the screeen. As you start to zoom in (+), you will see that each nucleotide is represented by a coloured bar (red=T, yellow=G, blue=C and green=A). This makes it easier to spot repetitive regions in the genome. Carry on zooming in (+) and you will see the individual nucleotides."
   ]
  },
  {
   "cell_type": "markdown",
   "metadata": {},
   "source": [
    "![IGV - sequence viewer](images/igv-sequence-viewer.png \"IGV - sequence viewer\")"
   ]
  },
  {
   "cell_type": "markdown",
   "metadata": {},
   "source": [
    "## Navigation in IGV\n",
    "\n",
    "There are several views in IGV\n",
    "\n",
    "* Genome view\n",
    "* Chromosome view\n",
    "* Region view\n",
    "\n",
    "There are several ways to zoom in and out in these views, to look at specific regions or base level information."
   ]
  },
  {
   "cell_type": "markdown",
   "metadata": {},
   "source": [
    "### Whole genome view\n",
    "\n",
    "To get a view of the entire genome select the zoom to whole genome icon (house icon) found in the toolbar at the top of the IGV window. "
   ]
  },
  {
   "cell_type": "markdown",
   "metadata": {},
   "source": [
    "![IGV - whole genome view](images/whole-genome-view.png \"IGV - whole genome view\")"
   ]
  },
  {
   "cell_type": "markdown",
   "metadata": {},
   "source": [
    "### Chromosome view\n",
    "\n",
    "To get a view of a specific chromosome select the chromosome from the chromosome drop down list in the toolbar of the IGV window."
   ]
  },
  {
   "cell_type": "markdown",
   "metadata": {},
   "source": [
    "![IGV - chromosome view](images/chromosome-view.png \"IGV - chromosome view\")"
   ]
  },
  {
   "cell_type": "markdown",
   "metadata": {},
   "source": [
    "### Region view\n",
    "\n",
    "#### Jump to region\n",
    "\n",
    "If you know the co-ordinates of the region you want to view, you can enter them into the \"_Search_\" and click \"_Go_\". The format is chromosome:start-stop. For example, to view from 100,000 to 100,100 on chr7, you would enter chr7:100,000-100,100 in the search box. We will practice this later in an exercise."
   ]
  },
  {
   "cell_type": "markdown",
   "metadata": {},
   "source": [
    "#### Select region\n",
    "If you don't know the specific co-ordinates of the region you want to look at, you can click and drag to select a region on the genome toolbar."
   ]
  },
  {
   "cell_type": "markdown",
   "metadata": {},
   "source": [
    "![IGV - search region](images/igv-search-region.png \"IGV - search region\")"
   ]
  },
  {
   "cell_type": "markdown",
   "metadata": {},
   "source": [
    "_Note: the visible region of the chromosome is indicated by the red box on the genome ruler._"
   ]
  },
  {
   "cell_type": "markdown",
   "metadata": {},
   "source": [
    "### Zooming in and out\n",
    "You can zoom in and out from each view by using the \"+\" and \"-\" buttons on the zoom control at the right-hand side of the toolbar. This will also work with the \"+\" and \"-\" keys on your keyboard. "
   ]
  },
  {
   "cell_type": "markdown",
   "metadata": {},
   "source": [
    "![IGV - zoom in/out](images/igv-zoom-in-out.png \"IGV - zoom in/out\")"
   ]
  },
  {
   "cell_type": "markdown",
   "metadata": {},
   "source": [
    "## Load the alignment\n",
    "\n",
    "IGV can be used to visualise many different types of data, including read alignments. Each time you load an alignment file it will be added to the **data viewer** as a new major **track**. \n",
    "\n",
    "**Go to ' _File -> Load from File…_ '. Select the \"md5638.markdup.bam\" BAM file that you created in the previous section and click ' _Open_ '.**"
   ]
  },
  {
   "cell_type": "markdown",
   "metadata": {},
   "source": [
    "![IGV - loading alignment from file](images/igv-load-alignment-1.png \"IGV - loading alignment from file\")"
   ]
  },
  {
   "cell_type": "markdown",
   "metadata": {},
   "source": [
    "![IGV - loading alignment from file](images/igv-load-alignment-2.png \"IGV - loading alignment from file\")"
   ]
  },
  {
   "cell_type": "markdown",
   "metadata": {},
   "source": [
    "**Note:** BAM files and their corresponding index files must be in the same directory for IGV to load them properly.\n",
    "\n",
    "For each read alignment, a major track will appear containing two minor tracks for that sample: \n",
    "\n",
    "* coverage information \n",
    "* read alignments \n",
    "\n",
    "For the total number of visible tracks, see the bottom left of main window. \n",
    "\n",
    "At the genome level view, there will be no coverage plot or read alignments visible. At the chromosome level view, there are two messages displayed: Zoom in to see coverage/alignments. Finally, once you have zoomed in (+) you will see a density plot in the coverage track and your read alignments."
   ]
  },
  {
   "cell_type": "markdown",
   "metadata": {},
   "source": [
    "![IGV - alignment views](images/igv-alignment-views.png \"IGV - alignment views\")"
   ]
  },
  {
   "cell_type": "markdown",
   "metadata": {},
   "source": [
    "## Visualising alignments\n",
    "\n",
    "### Coverage information\n",
    "\n",
    "When zoomed in to view a region, you can get alignment information for each position in the genome by hovering over the coverage track. This will open a yellow box which tells you the total number of reads mapped at that position, a breakdown of the mapped nucleotide frequencies and the number of reads mapping in a forward/reverse orientation. In the example shown below, 95 reads mapped, 50 forward and 45 reverse, all of which called A at position 202,768 on chromosome PccAS_05_v3. This is just an example for illustrative purposes, please do not try to look at this position in IGV here."
   ]
  },
  {
   "cell_type": "markdown",
   "metadata": {},
   "source": [
    "![IGV - coverage information](images/igv-coverage-stats.png \"IGV - coverage information\")"
   ]
  },
  {
   "cell_type": "markdown",
   "metadata": {},
   "source": [
    "### Viewing individual read alignment information\n",
    "\n",
    "Reads are represented by grey or transparent/white bars that are stacked together where they align to the reference genome. Reads are pointed to indicate the orientation in which they mapped i.e. on the forward or reverse strand. Hovering over an individual read will display information about its alignment."
   ]
  },
  {
   "cell_type": "markdown",
   "metadata": {},
   "source": [
    "![IGV - read information](images/igv-read-information.png \"IGV - read information\")"
   ]
  },
  {
   "cell_type": "markdown",
   "metadata": {},
   "source": [
    "Mismatches occur where the nucleotide in the aligned read is not the same as the nucleotide in that position on the reference genome. A mismatch is indicated by a coloured bar at the relevant position on the read. The colour of the bar represents the mismatched base in the read (red=T, yellow=G, blue=C and green=A)."
   ]
  },
  {
   "cell_type": "markdown",
   "metadata": {},
   "source": [
    "![IGV - mismatch](images/igv-mismatch.png \"IGV - mismatch\")"
   ]
  },
  {
   "cell_type": "markdown",
   "metadata": {},
   "source": [
    "The transparency of the color reflects the quality of the base. Thus, solid color indicates that the mismatch is unlikely to be a sequencing error, whereas lighter coloured mismatches correspond to low-quality base calls."
   ]
  },
  {
   "cell_type": "markdown",
   "metadata": {},
   "source": [
    "## IGV configuration\n",
    "\n",
    "Now, follow these instructions to set up your IGV view: \n",
    "\n",
    "**Select the little yellow “speech bubble” icon in the toolbar and set the option to \"Show Details on Click\" (or you will go mad, I promise!).**"
   ]
  },
  {
   "cell_type": "markdown",
   "metadata": {},
   "source": [
    "![IGV Set popups on click only](images/igv-set-popup-on-click.png \"IGV - Set popups on click only\")"
   ]
  },
  {
   "cell_type": "markdown",
   "metadata": {},
   "source": [
    "**Zoom in so you can see sequence reads and go to region chr7:87480000-87485000 using the navigation bar at the top.**"
   ]
  },
  {
   "cell_type": "markdown",
   "metadata": {},
   "source": [
    "![IGV - View of region of chromosome 7](images/igv-chr7-zoomed-view.png \"IGV - View of region of chromosome 7\")"
   ]
  },
  {
   "cell_type": "markdown",
   "metadata": {},
   "source": [
    "**Control-click or right-click in the data view window. Choose sort alignments by insert size, then choose colour alignments by insert size and finally choose “View as pairs”.**\n",
    "\n",
    "**Go to ' _View -> Preferences..._ ' select the ' _Alignments_ ' tab and ensure the \"Show soft-clipped bases\" option is ticked. This colour highlighting emphasises soft-clips on the read itself.** "
   ]
  },
  {
   "cell_type": "markdown",
   "metadata": {},
   "source": [
    "![IGV - Configuring the view](images/igv-configure-soft-clip-1.png \"Configuring IGV view\")"
   ]
  },
  {
   "cell_type": "markdown",
   "metadata": {},
   "source": [
    "![IGV - Configuring the view](images/igv-configure-soft-clip-2.png)"
   ]
  },
  {
   "cell_type": "markdown",
   "metadata": {},
   "source": [
    "Your IGV session should look similar to:"
   ]
  },
  {
   "cell_type": "markdown",
   "metadata": {},
   "source": [
    "![IGV](images/igv-final-view.png)"
   ]
  },
  {
   "cell_type": "markdown",
   "metadata": {},
   "source": [
    "## Exercises\n",
    "1. Go to chromosome chr7, positions 87,483,625-87,484,330 using the navigation bar across the top. Take in the glorious view of a genome pileup. Stop and smell the roses! Click on stuff! Scroll around, zoom in and out a bit!\n",
    "\n",
    "2. Go back to chromosome 7:87,483,625-87,484,330. What is the (rough) coverage across this region? (__Hint:__ Look at the coverage track)\n",
    "\n",
    "3. Can you spot the three mutant variants (two small and one large) in this region? State what the evidence is for each of them?\n",
    "\n",
    "__Hints__\n",
    "\n",
    "   * Hint1: Look around 87,483,960 for an insertion. How large is it? How many reads does it occur in?\n",
    "   * Hint2: Look around 87,483,960 for a deletion. How large is it? How many reads does it occur in?\n",
    "   * Hint3: Zoom out slightly and look at the coverage track between 87,483,700 - 87,484,200. Once you’ve spotted the large change look at the reference sequence on the edges of the mutation. \n",
    "   \n",
    "4. Can you venture a guess as to what happened here? Why are these mutations present?"
   ]
  },
  {
   "cell_type": "markdown",
   "metadata": {},
   "source": [
    "**Congratulations**, you have completed the Read Alignment tutorial. If you have time left then continue to the next (optional) section of the tutorial: [Alignment workflows](workflows.ipynb)."
   ]
  },
  {
   "cell_type": "markdown",
   "metadata": {},
   "source": [
    "Here is an additional IGV tutorial and refresher: [https://github.com/sanger-pathogens/pathogen-informatics-training/blob/master/Notebooks/IGV/IGV.pdf](https://github.com/sanger-pathogens/pathogen-informatics-training/blob/master/Notebooks/IGV/IGV.pdf). You can find a copy of this tutorial in your manual. Unfortunately, there is not enough time to complete this tutorial now but you may find it useful to look at it after the course."
   ]
  }
 ],
 "metadata": {
  "kernelspec": {
   "display_name": "Bash",
   "language": "bash",
   "name": "bash"
  },
  "language_info": {
   "codemirror_mode": "shell",
   "file_extension": ".sh",
   "mimetype": "text/x-sh",
   "name": "bash"
  }
 },
 "nbformat": 4,
 "nbformat_minor": 2
}
