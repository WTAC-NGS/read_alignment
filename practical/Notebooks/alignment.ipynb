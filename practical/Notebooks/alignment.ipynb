{
 "cells": [
  {
   "cell_type": "markdown",
   "metadata": {},
   "source": [
    "# Performing Read Alignment\n",
    "\n",
    "Here we will use the BWA aligner to align a small set of Illumina sequencing reads to the _Mus Musculus_ reference genome. We will align genomic sequences (from Whole-Genome Sequencing) from a mouse embryo that was mutagenised at the one-cell stage using CRISPR-Cas9 and a gRNA targeting an exon of the Tyr gene. The successful mutation of the gene results in the deletion of one or both alleles. A bi-allelic null Tyr mouse will be albino, but otherwise healthy.\n",
    "\n",
    "First, check you are in the correct directory."
   ]
  },
  {
   "cell_type": "code",
   "execution_count": null,
   "metadata": {},
   "outputs": [],
   "source": [
    "pwd"
   ]
  },
  {
   "cell_type": "markdown",
   "metadata": {},
   "source": [
    "It should display something like:\n",
    "\n",
    "  ``/home/manager/course_data/read_alignment``"
   ]
  },
  {
   "cell_type": "markdown",
   "metadata": {},
   "source": [
    "## Viewing the reference genome\n",
    "\n",
    "Go to the `ref` directory, which contains the fasta files of the reference genome:"
   ]
  },
  {
   "cell_type": "code",
   "execution_count": null,
   "metadata": {},
   "outputs": [],
   "source": [
    "cd ~/course_data/read_alignment/data/ref"
   ]
  },
  {
   "cell_type": "markdown",
   "metadata": {},
   "source": [
    "Fasta files (.fa) are used to store raw sequence information, before the data has been aligned. A single chromosome from the mouse genome is contained in the file GRCm38.68.dna.toplevel.chr7.fa.gz\n",
    "\n",
    "View the file with zless (we use zless instead of less because the file is compressed):"
   ]
  },
  {
   "cell_type": "code",
   "execution_count": null,
   "metadata": {},
   "outputs": [],
   "source": [
    "zless GRCm38.68.dna.toplevel.chr7.fa.gz"
   ]
  },
  {
   "cell_type": "markdown",
   "metadata": {},
   "source": [
    "__Q1: What is the length of chromosome 7 of the mouse genome?__ (Hint: look at the fasta header for chromosome 7)"
   ]
  },
  {
   "cell_type": "code",
   "execution_count": null,
   "metadata": {},
   "outputs": [],
   "source": []
  },
  {
   "cell_type": "markdown",
   "metadata": {},
   "source": [
    "Similar to a BAM file, an index file is required to allow fast retrieval of data. You should check for the presence of fasta indexes for the genome in the 'ref' directory:\n",
    "\n",
    "``GRCm38.68.dna.toplevel.chr7.fa.gz.amb ... GRCm38.68.dna.toplevel.chr7.fa.gz.sa``\n",
    "\n",
    "These are created by BWA: suffixtrees, bwt transform etc etc.\n",
    "    \n",
    "If these index files don’t exist, then you can run the indexing with the command\n",
    "\n",
    "``bwa index GRCm38.68.dna.toplevel.chr7.fa.gz`` \n",
    "    \n",
    "Beware – this indexing process can take 3-5 minutes so please only run it if the index files do not exist!"
   ]
  },
  {
   "cell_type": "markdown",
   "metadata": {},
   "source": [
    "## Align the data with bwa\n",
    "\n",
    "Go to the `~/course_data/read_alignment/data/Exercise1/fastq/` directory - you can use this command: "
   ]
  },
  {
   "cell_type": "code",
   "execution_count": null,
   "metadata": {},
   "outputs": [],
   "source": [
    "cd ../Exercise1/fastq"
   ]
  },
  {
   "cell_type": "markdown",
   "metadata": {},
   "source": [
    "Use the `bwa mem` command to align the fastq files to the mouse reference genome. By default bwa outputs SAM format directly to the standard output (in this case your terminal window); therefore you will have to redirect the result into a SAM file."
   ]
  },
  {
   "cell_type": "code",
   "execution_count": null,
   "metadata": {},
   "outputs": [],
   "source": [
    "bwa mem ../../ref/GRCm38.68.dna.toplevel.chr7.fa.gz md5638a_7_87000000_R1.fastq.gz md5638a_7_87000000_R2.fastq.gz > md5638.sam"
   ]
  },
  {
   "cell_type": "markdown",
   "metadata": {},
   "source": [
    "This may take a few minutes, please be patient."
   ]
  },
  {
   "cell_type": "markdown",
   "metadata": {},
   "source": [
    "## Convert a SAM file to a BAM file\n",
    "\n",
    "Now use samtools to convert the SAM file `md5638.sam` created in the previous step into a BAM file called `md5638.bam`. Remember you can run `samtools view` to display the help and check what the different options mean."
   ]
  },
  {
   "cell_type": "code",
   "execution_count": null,
   "metadata": {},
   "outputs": [],
   "source": [
    "samtools view -O BAM -o md5638.bam md5638.sam"
   ]
  },
  {
   "cell_type": "markdown",
   "metadata": {},
   "source": [
    "__Q2: How much space is saved by using a BAM file instead of a SAM file?__"
   ]
  },
  {
   "cell_type": "code",
   "execution_count": null,
   "metadata": {},
   "outputs": [],
   "source": []
  },
  {
   "cell_type": "markdown",
   "metadata": {},
   "source": [
    "## Sort and index the BAM file\n",
    "\n",
    "The BAM files produced by BWA are sorted by read name (same order as the original fastq files). However, most viewing and variant calling software require the BAM files to be sorted by reference coordinate position and indexed for rapid retrieval. Therefore, use `samtools sort` to produce a new BAM file called `md5638.sorted.bam` that is sorted by position."
   ]
  },
  {
   "cell_type": "code",
   "execution_count": null,
   "metadata": {},
   "outputs": [],
   "source": [
    "samtools sort -T temp -O bam -o md5638.sorted.bam md5638.bam"
   ]
  },
  {
   "cell_type": "markdown",
   "metadata": {},
   "source": [
    "Finally index the sorted BAM file using `samtools index` command. \n",
    "\n",
    "__Note:__ indexing a BAM file is also a good way to check that the BAM file has not been truncated (e.g. your disk becomes full when writing the BAM file). At the end of every BAM file, a special end of file (EOF) marker is written. The samtools index command will first check for this and produce an error message if it is not found."
   ]
  },
  {
   "cell_type": "code",
   "execution_count": null,
   "metadata": {},
   "outputs": [],
   "source": [
    "samtools index md5638.sorted.bam"
   ]
  },
  {
   "cell_type": "markdown",
   "metadata": {},
   "source": [
    "## Unix pipes to combine the commands together\n",
    "\n",
    "To produce the sorted BAM file above we had to carry out several separate commands and produce intermediate files. The Unix pipe command allows you to feed the output of one command into the next command.\n",
    "\n",
    "You can combine all of these commands together using unix pipes, and avoid writing intermediate files. To do this type:"
   ]
  },
  {
   "cell_type": "code",
   "execution_count": null,
   "metadata": {},
   "outputs": [],
   "source": [
    "bwa mem ../../ref/GRCm38.68.dna.toplevel.chr7.fa.gz md5638a_7_87000000_R1.fastq.gz md5638a_7_87000000_R2.fastq.gz | samtools view -O BAM - | samtools sort -T temp -O bam -o md5638_2.sorted.bam -"
   ]
  },
  {
   "cell_type": "markdown",
   "metadata": {},
   "source": [
    "Now index the BAM file:"
   ]
  },
  {
   "cell_type": "code",
   "execution_count": null,
   "metadata": {},
   "outputs": [],
   "source": [
    "samtools index md5638_2.sorted.bam"
   ]
  },
  {
   "cell_type": "markdown",
   "metadata": {},
   "source": [
    "**Note: When the symbol `-` is used above, Unix will automatically replace `-` with the output produced by the preceeding command (i.e. the command before the `|` symbol).**"
   ]
  },
  {
   "cell_type": "markdown",
   "metadata": {},
   "source": [
    "## Mark PCR Duplicates\n",
    "\n",
    "We will use a program called `MarkDuplicates` that is part of Picard tools (http://picard.sourceforge.net) to remove PCR duplicates that may have been introduced during the library construction stage. To find the options for ‘MarkDuplicates’ type:"
   ]
  },
  {
   "cell_type": "code",
   "execution_count": null,
   "metadata": {},
   "outputs": [],
   "source": [
    "picard MarkDuplicates"
   ]
  },
  {
   "cell_type": "markdown",
   "metadata": {},
   "source": [
    "Now run MarkDuplicates using the ‘I=’ option to specify the input BAM file and the ‘O=’ option to specify the output file (e.g. md5638.markdup.bam). You will also need to specify the duplication metrics output file using ‘M=’ (e.g. md5638.markdup.metrics)."
   ]
  },
  {
   "cell_type": "code",
   "execution_count": null,
   "metadata": {},
   "outputs": [],
   "source": [
    "picard MarkDuplicates I=md5638.sorted.bam O=md5638.markdup.bam M=md5638.metrics.txt"
   ]
  },
  {
   "cell_type": "markdown",
   "metadata": {},
   "source": [
    "__Q3: From looking at the output metrics file - how many reads were marked as duplicates? What\n",
    "was the percent duplication?__"
   ]
  },
  {
   "cell_type": "code",
   "execution_count": null,
   "metadata": {},
   "outputs": [],
   "source": []
  },
  {
   "cell_type": "markdown",
   "metadata": {},
   "source": [
    "Don't forget to generate an index for the new bam file using samtools."
   ]
  },
  {
   "cell_type": "code",
   "execution_count": null,
   "metadata": {},
   "outputs": [],
   "source": [
    "samtools index md5638.markdup.bam"
   ]
  },
  {
   "cell_type": "markdown",
   "metadata": {},
   "source": [
    "## Generate QC Stats\n",
    "\n",
    "Use samtools to collect some statistics and generate QC plots from the alignment in the BAM file from the previous step. Make sure you save the output of the stats command to a file (e.g. `md5638.markdup.stats`)."
   ]
  },
  {
   "cell_type": "code",
   "execution_count": null,
   "metadata": {},
   "outputs": [],
   "source": [
    "samtools stats md5638.markdup.bam > md5638.markdup.stats"
   ]
  },
  {
   "cell_type": "code",
   "execution_count": null,
   "metadata": {},
   "outputs": [],
   "source": [
    "plot-bamstats -p md5638_plot/ md5638.markdup.stats"
   ]
  },
  {
   "cell_type": "markdown",
   "metadata": {},
   "source": [
    "## Exercises\n",
    "\n",
    "Now look at the output and answer the following questions:\n",
    "\n",
    "__Q4: What is the total number of reads?__\n",
    "\n",
    "__Q5: What proportion of the reads were mapped?__\n",
    "\n",
    "__Q6: How many reads were paired correctly/properly?__\n",
    "\n",
    "__Q7: How many read pairs mapped to a different chromosome?__\n",
    "\n",
    "__Q8: What is the insert size mean and standard deviation?__\n",
    "\n",
    "In your web browser open the file called `md5638_plot/index.html` to view the QC information and answer the following questions:\n",
    "\n",
    "__Q9: How many reads have zero mapping quality?__\n",
    "\n",
    "__Q10: Which of the first or second reads in the fragment are higher base quality on average?__"
   ]
  },
  {
   "cell_type": "markdown",
   "metadata": {},
   "source": [
    "**Congratulations**, you have succesfully aligned some NGS data to a reference genome! Now continue to the next section of the tutorial: [Alignment visualisation](visualisation.ipynb)."
   ]
  }
 ],
 "metadata": {
  "kernelspec": {
   "display_name": "Bash",
   "language": "bash",
   "name": "bash"
  },
  "language_info": {
   "codemirror_mode": "shell",
   "file_extension": ".sh",
   "mimetype": "text/x-sh",
   "name": "bash"
  }
 },
 "nbformat": 4,
 "nbformat_minor": 2
}
